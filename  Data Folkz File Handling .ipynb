{
 "cells": [
  {
   "cell_type": "markdown",
   "metadata": {},
   "source": [
    "### File Handling\n",
    "\n",
    "- File handling is an important part of any web application.\n",
    "\n",
    "- Python has several functions for creating, reading, updating, and deleting file"
   ]
  },
  {
   "cell_type": "markdown",
   "metadata": {},
   "source": [
    "#### File Handling\n",
    "- The key function for working with files in Python is the open() function.\n",
    "\n",
    "- The open() function takes two parameters; filename, and mode.\n"
   ]
  },
  {
   "cell_type": "markdown",
   "metadata": {},
   "source": [
    "There are four different methods (modes) for opening a file:\n",
    "\n",
    "\"r\" - Read - Default value. Opens a file for reading, error if the file does not exist\n",
    "\n",
    "\"a\" - Append - Opens a file for appending, creates the file if it does not exist\n",
    "\n",
    "\"w\" - Write - Opens a file for writing, creates the file if it does not exist\n",
    "\n",
    "\"x\" - Create - Creates the specified file, returns an error if the file exists"
   ]
  },
  {
   "cell_type": "markdown",
   "metadata": {},
   "source": [
    "In addition you can specify if the file should be handled as binary or text mode\n",
    "\n",
    "\"t\" - Text - Default value. Text mode\n",
    "\n",
    "\"b\" - Binary - Binary mode (e.g. images)"
   ]
  },
  {
   "cell_type": "markdown",
   "metadata": {},
   "source": [
    "Syntax\n",
    "To open a file for reading it is enough to specify the name of the file:\n",
    "\n",
    "- To open the file, use the built-in open() function.\n",
    "\n",
    "- The open() function returns a file object, which has a read() method for reading the content of the file:"
   ]
  },
  {
   "cell_type": "code",
   "execution_count": 6,
   "metadata": {},
   "outputs": [
    {
     "name": "stdout",
     "output_type": "stream",
     "text": [
      "Coronavirus disease (COVID-19) is an infectious disease caused by a newly discovered coronavirus.\n",
      "Most people who fall sick with COVID-19 will experience mild to moderate symptoms and recover without special treatment.\n"
     ]
    }
   ],
   "source": [
    "file_txt = open(\"sample.txt\",\"r\")\n",
    "print(file_txt.read())"
   ]
  },
  {
   "cell_type": "code",
   "execution_count": 4,
   "metadata": {},
   "outputs": [
    {
     "name": "stdout",
     "output_type": "stream",
     "text": [
      "Coronavirus disease (COVID-19) is an infectious disease caused by a newly discovered coronavirus.\n",
      "Most people who fall sick with COVID-19 will experience mild to moderate symptoms and recover without special treatment.\n"
     ]
    }
   ],
   "source": [
    "file_txt = open(\"C:/Users/Dell/Desktop/Data Folkz/IIIT Python/Revamp Python/sample.txt\",\"r\")\n",
    "print(file_txt.read())"
   ]
  },
  {
   "cell_type": "markdown",
   "metadata": {},
   "source": [
    "- Read Only Parts of the File\n",
    "- By default the read() method returns the whole text, but you can also specify how many characters you want to return:\n"
   ]
  },
  {
   "cell_type": "code",
   "execution_count": 7,
   "metadata": {},
   "outputs": [
    {
     "name": "stdout",
     "output_type": "stream",
     "text": [
      "Coron\n"
     ]
    }
   ],
   "source": [
    "#Example\n",
    "#Return the 5 first characters of the file:\n",
    "file_txt = open(\"sample.txt\", \"r\")\n",
    "print(file_txt.read(5))"
   ]
  },
  {
   "cell_type": "markdown",
   "metadata": {},
   "source": [
    "#### Read Lines\n",
    "- You can return one line by using the readline() method:\n",
    "\n",
    "Example\n",
    "- Read one line of the file:\n"
   ]
  },
  {
   "cell_type": "code",
   "execution_count": 11,
   "metadata": {},
   "outputs": [
    {
     "name": "stdout",
     "output_type": "stream",
     "text": [
      "Coronavirus disease (COVID-19) is an infectious disease caused by a newly discovered coronavirus.\n",
      "\n",
      "Most people who fall sick with COVID-19 will experience mild to moderate symptoms and recover without special treatment.\n"
     ]
    }
   ],
   "source": [
    "file_txt = open(\"sample.txt\", \"r\")\n",
    "print(file_txt.readline())\n",
    "print(file_txt.readline())\n"
   ]
  },
  {
   "cell_type": "markdown",
   "metadata": {},
   "source": [
    "- By calling readline() two times, you can read the two first lines:"
   ]
  },
  {
   "cell_type": "code",
   "execution_count": 9,
   "metadata": {},
   "outputs": [
    {
     "name": "stdout",
     "output_type": "stream",
     "text": [
      "Coronavirus disease (COVID-19) is an infectious disease caused by a newly discovered coronavirus.\n",
      "\n",
      "Most people who fall sick with COVID-19 will experience mild to moderate symptoms and recover without special treatment.\n"
     ]
    }
   ],
   "source": [
    "file_txt = open(\"sample.txt\", \"r\")\n",
    "print(file_txt.readline())\n",
    "print(file_txt.readline())"
   ]
  },
  {
   "cell_type": "markdown",
   "metadata": {},
   "source": [
    "By looping through the lines of the file, you can read the whole file, line by line:"
   ]
  },
  {
   "cell_type": "code",
   "execution_count": 13,
   "metadata": {},
   "outputs": [
    {
     "name": "stdout",
     "output_type": "stream",
     "text": [
      "Coronavirus disease (COVID-19) is an infectious disease caused by a newly discovered coronavirus.\n",
      "\n",
      "Most people who fall sick with COVID-19 will experience mild to moderate symptoms and recover without special treatment.\n"
     ]
    }
   ],
   "source": [
    "file_txt = open(\"sample.txt\", \"r\")\n",
    "for x in file_txt:\n",
    "    print(x)"
   ]
  },
  {
   "cell_type": "markdown",
   "metadata": {},
   "source": [
    "#### Close Files\n",
    "It is a good practice to always close the file when you are done with it."
   ]
  },
  {
   "cell_type": "code",
   "execution_count": 15,
   "metadata": {},
   "outputs": [
    {
     "name": "stdout",
     "output_type": "stream",
     "text": [
      "Coronavirus disease (COVID-19) is an infectious disease caused by a newly discovered coronavirus.\n",
      "\n"
     ]
    }
   ],
   "source": [
    "file_txt = open(\"sample.txt\", \"r\")\n",
    "print(file_txt.readline())\n",
    "file_txt.close()"
   ]
  },
  {
   "cell_type": "markdown",
   "metadata": {},
   "source": [
    "Note: You should always close your files, in some cases, due to buffering, changes made to a file may not show until you close the file."
   ]
  },
  {
   "cell_type": "markdown",
   "metadata": {},
   "source": [
    "#### Write to an Existing File\n",
    "- To write to an existing file, you must add a parameter to the open() function:\n",
    "\n",
    "\"a\" - Append - will append to the end of the file\n",
    "\n",
    "\"w\" - Write - will overwrite any existing content"
   ]
  },
  {
   "cell_type": "markdown",
   "metadata": {},
   "source": [
    "Example\n",
    "\n",
    "Open the file \"sample2.txt\" and append content to the file:"
   ]
  },
  {
   "cell_type": "code",
   "execution_count": 20,
   "metadata": {},
   "outputs": [
    {
     "name": "stdout",
     "output_type": "stream",
     "text": [
      "The death toll from COVID-19 zoomed to 73 on Thursday, the highest reported so far in a single day\n",
      "The total number of coronavirus patients in India climbed to 35,043\n",
      "Now the file has more content!Now the file has more content!Now the file has more content!Now the file has more content!Now the file has more content!Now the file has more content!Now there is new contentola!Now there is new content\n"
     ]
    }
   ],
   "source": [
    "file_txt2 = open(\"sample2.txt\", \"a\")\n",
    "file_txt2.write(\"ola!Now there is new content\")\n",
    "file_txt2.close()\n",
    "\n",
    "#open and read the file after the appending:\n",
    "file_txt2 = open(\"sample2.txt\", \"r\")\n",
    "print(file_txt2.read())"
   ]
  },
  {
   "cell_type": "markdown",
   "metadata": {},
   "source": [
    "Example\n",
    "\n",
    "Open the file \"sample3.txt\" and overwrite the content:"
   ]
  },
  {
   "cell_type": "code",
   "execution_count": 25,
   "metadata": {},
   "outputs": [
    {
     "name": "stdout",
     "output_type": "stream",
     "text": [
      "Woops! I have deleted the content!\n"
     ]
    }
   ],
   "source": [
    "file_txt3 = open(\"sample3.txt\", \"w\")\n",
    "file_txt3.write(\"Woops! I have deleted the content!\")\n",
    "file_txt3.close()\n",
    "\n",
    "#open and read the file after the appending:\n",
    "file_txt3 = open(\"sample3.txt\", \"r\")\n",
    "print(file_txt3.read())"
   ]
  }
 ],
 "metadata": {
  "kernelspec": {
   "display_name": "Python 3",
   "language": "python",
   "name": "python3"
  },
  "language_info": {
   "codemirror_mode": {
    "name": "ipython",
    "version": 3
   },
   "file_extension": ".py",
   "mimetype": "text/x-python",
   "name": "python",
   "nbconvert_exporter": "python",
   "pygments_lexer": "ipython3",
   "version": "3.7.6"
  }
 },
 "nbformat": 4,
 "nbformat_minor": 4
}
